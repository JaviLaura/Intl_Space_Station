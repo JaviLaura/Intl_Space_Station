{
  "nbformat": 4,
  "nbformat_minor": 0,
  "metadata": {
    "colab": {
      "provenance": [],
      "collapsed_sections": [],
      "include_colab_link": true
    },
    "kernelspec": {
      "name": "python3",
      "display_name": "Python 3"
    }
  },
  "cells": [
    {
      "cell_type": "markdown",
      "metadata": {
        "id": "view-in-github",
        "colab_type": "text"
      },
      "source": [
        "<a href=\"https://colab.research.google.com/github/JaviLaura/Intl_Space_Station/blob/main/International_Space_Station.ipynb\" target=\"_parent\"><img src=\"https://colab.research.google.com/assets/colab-badge.svg\" alt=\"Open In Colab\"/></a>"
      ]
    },
    {
      "cell_type": "markdown",
      "metadata": {
        "id": "ZW2s_a31KfbO"
      },
      "source": [
        "#<img src=\"https://static.junilearning.com/images/juni_logo.png\" height=75 align=center hspace=\"5px\"> **DS4 Project 1: International Space Station**"
      ]
    },
    {
      "cell_type": "markdown",
      "metadata": {
        "id": "mybUsUbVLwze"
      },
      "source": [
        "After an instantaneous worldwide power outage, verbal communications with the International Space Station (ISS) have been disconnected. Fortunately the reliable Deep Space Network (DSN) is able to access some information about the state of the station. This information is accessible by API and will help us confirm the astronauts well being.\n",
        "\n",
        "Access the API here: http://api.open-notify.org\n",
        "\n",
        "<img src=\"https://static.junilearning.com/python_data_science/iss_communication.jpg\" align=center hspace=\"5px\" height=\"300\">\n",
        "\n",
        "Begin by verifying the identities of the astronauts currently in space and adding them to a list."
      ]
    },
    {
      "cell_type": "code",
      "metadata": {
        "id": "Jvirjy0OIkNu"
      },
      "source": [
        "import requests\n",
        "import json\n",
        "\n"
      ],
      "execution_count": null,
      "outputs": []
    },
    {
      "cell_type": "code",
      "source": [
        "issBase = \"http://api.open-notify.org\" #Base URL\n",
        "resultVar = requests.get(issBase + \"/astros.json\")\n",
        "# jVar = resultVar.json()['number']\n",
        "jVar = resultVar.json()\n",
        "display(resultVar.json()) "
      ],
      "metadata": {
        "colab": {
          "base_uri": "https://localhost:8080/",
          "height": 225
        },
        "id": "kEy_FABsnszu",
        "outputId": "7652a747-3b14-4899-b2e2-2eaa86f1e887"
      },
      "execution_count": null,
      "outputs": [
        {
          "output_type": "display_data",
          "data": {
            "text/plain": [
              "{'number': 10,\n",
              " 'people': [{'name': 'Oleg Artemyev', 'craft': 'ISS'},\n",
              "  {'name': 'Denis Matveev', 'craft': 'ISS'},\n",
              "  {'name': 'Sergey Korsakov', 'craft': 'ISS'},\n",
              "  {'name': 'Kjell Lindgren', 'craft': 'ISS'},\n",
              "  {'name': 'Bob Hines', 'craft': 'ISS'},\n",
              "  {'name': 'Samantha Cristoforetti', 'craft': 'ISS'},\n",
              "  {'name': 'Jessica Watkins', 'craft': 'ISS'},\n",
              "  {'name': 'Cai Xuzhe', 'craft': 'Tiangong'},\n",
              "  {'name': 'Chen Dong', 'craft': 'Tiangong'},\n",
              "  {'name': 'Liu Yang', 'craft': 'Tiangong'}],\n",
              " 'message': 'success'}"
            ]
          },
          "metadata": {}
        }
      ]
    },
    {
      "cell_type": "code",
      "source": [
        "print(jVar['number'])\n",
        "print(jVar['people'])"
      ],
      "metadata": {
        "colab": {
          "base_uri": "https://localhost:8080/"
        },
        "id": "Nz0NFqU6qE_A",
        "outputId": "225350a3-f0f1-4bf3-c803-5c395d83cd52"
      },
      "execution_count": null,
      "outputs": [
        {
          "output_type": "stream",
          "name": "stdout",
          "text": [
            "10\n",
            "[{'name': 'Oleg Artemyev', 'craft': 'ISS'}, {'name': 'Denis Matveev', 'craft': 'ISS'}, {'name': 'Sergey Korsakov', 'craft': 'ISS'}, {'name': 'Kjell Lindgren', 'craft': 'ISS'}, {'name': 'Bob Hines', 'craft': 'ISS'}, {'name': 'Samantha Cristoforetti', 'craft': 'ISS'}, {'name': 'Jessica Watkins', 'craft': 'ISS'}, {'name': 'Cai Xuzhe', 'craft': 'Tiangong'}, {'name': 'Chen Dong', 'craft': 'Tiangong'}, {'name': 'Liu Yang', 'craft': 'Tiangong'}]\n"
          ]
        }
      ]
    },
    {
      "cell_type": "code",
      "source": [
        "print(jVar)\n",
        "print(jVar['people']) \n",
        "print(jVar['people'][0]) # {'craft': 'ISS', 'name': 'Oleg Artemyev'}\n",
        "print(jVar['people'][0]['craft']) # 'ISS'"
      ],
      "metadata": {
        "id": "Lz33XZ9FjLl-",
        "colab": {
          "base_uri": "https://localhost:8080/"
        },
        "outputId": "7c404809-a5dc-4952-af82-a1a0473f37e2"
      },
      "execution_count": null,
      "outputs": [
        {
          "output_type": "stream",
          "name": "stdout",
          "text": [
            "{'number': 10, 'people': [{'name': 'Oleg Artemyev', 'craft': 'ISS'}, {'name': 'Denis Matveev', 'craft': 'ISS'}, {'name': 'Sergey Korsakov', 'craft': 'ISS'}, {'name': 'Kjell Lindgren', 'craft': 'ISS'}, {'name': 'Bob Hines', 'craft': 'ISS'}, {'name': 'Samantha Cristoforetti', 'craft': 'ISS'}, {'name': 'Jessica Watkins', 'craft': 'ISS'}, {'name': 'Cai Xuzhe', 'craft': 'Tiangong'}, {'name': 'Chen Dong', 'craft': 'Tiangong'}, {'name': 'Liu Yang', 'craft': 'Tiangong'}], 'message': 'success'}\n",
            "[{'name': 'Oleg Artemyev', 'craft': 'ISS'}, {'name': 'Denis Matveev', 'craft': 'ISS'}, {'name': 'Sergey Korsakov', 'craft': 'ISS'}, {'name': 'Kjell Lindgren', 'craft': 'ISS'}, {'name': 'Bob Hines', 'craft': 'ISS'}, {'name': 'Samantha Cristoforetti', 'craft': 'ISS'}, {'name': 'Jessica Watkins', 'craft': 'ISS'}, {'name': 'Cai Xuzhe', 'craft': 'Tiangong'}, {'name': 'Chen Dong', 'craft': 'Tiangong'}, {'name': 'Liu Yang', 'craft': 'Tiangong'}]\n",
            "{'name': 'Oleg Artemyev', 'craft': 'ISS'}\n",
            "ISS\n"
          ]
        }
      ]
    },
    {
      "cell_type": "code",
      "source": [
        "pplList = []\n",
        "for i in range(jVar['number']):\n",
        "  person = jVar['people'][i]\n",
        "\n",
        "  if person['craft'] == 'ISS':\n",
        "    pplList.append(person['name'])\n",
        "\n",
        "print(pplList)\n",
        "  # pplList.append(i)"
      ],
      "metadata": {
        "colab": {
          "base_uri": "https://localhost:8080/"
        },
        "id": "gyccxASjn0GS",
        "outputId": "66eb0aa1-6d8b-4027-a967-40e5817e375f"
      },
      "execution_count": null,
      "outputs": [
        {
          "output_type": "stream",
          "name": "stdout",
          "text": [
            "['Oleg Artemyev', 'Denis Matveev', 'Sergey Korsakov', 'Kjell Lindgren', 'Bob Hines', 'Samantha Cristoforetti', 'Jessica Watkins']\n"
          ]
        }
      ]
    },
    {
      "cell_type": "code",
      "source": [
        "lst = []\n",
        "\n",
        "# first iteration\n",
        "person = jVar['people'][0]\n",
        "if person['craft'] == 'ISS':\n",
        "  lst.append(jVar['people'][0]['name'])\n",
        "\n",
        "# second iteration\n",
        "person = jVar['people'][1]\n",
        "if person['craft'] == 'ISS':\n",
        "  lst.append(jVar['people'][1]['name'])\n",
        "\n",
        "# second iteration\n",
        "person = jVar['people'][2]\n",
        "if person['craft'] == 'ISS':\n",
        "  lst.append(jVar['people'][2]['name'])\n",
        "\n",
        "print(lst)"
      ],
      "metadata": {
        "colab": {
          "base_uri": "https://localhost:8080/"
        },
        "id": "F2UevpNslIHQ",
        "outputId": "c0ef1499-c705-4cf3-d37c-babb1a33bcd5"
      },
      "execution_count": null,
      "outputs": [
        {
          "output_type": "stream",
          "name": "stdout",
          "text": [
            "['Oleg Artemyev', 'Denis Matveev', 'Sergey Korsakov']\n"
          ]
        }
      ]
    },
    {
      "cell_type": "markdown",
      "metadata": {
        "id": "5_dAzmjmR8u8"
      },
      "source": [
        "Now that we've verifed that all the astronauts are safely aboard the ISS, we need to ensure that it's still moving at the expected velocity (the ISS usually travels at around 7 km/sec. This is the speed required to remain in orbit at 400 kms altitude). \n",
        "\n",
        "Velocity should be computed in terms of km/sec. Fetch the latitude and longitude coordinates of the ISS at two different times. Then find the difference in distance (km) and time (sec) to compute the velocity!\n",
        "\n",
        "Note: Because of the curvature of the earth, calculating distance can be tricky. Make sure to use the `distance()` function to make your calculations, which takes curvature into account. \n",
        "\n",
        "<img src=\"https://static.junilearning.com/python_data_science/iss_map.jpg\" align=center hspace=\"5px\" height=\"300\">"
      ]
    },
    {
      "cell_type": "code",
      "metadata": {
        "id": "5uJvdosgUIBD"
      },
      "source": [
        "import math\n",
        "import time\n",
        "\n",
        "\n",
        "\n",
        "def distance(lo1, la1, lo2, la2):\n",
        "  # Convert to radians\n",
        "  lo1 = math.radians(lo1)\n",
        "  la1 = math.radians(la1)\n",
        "  lo2 = math.radians(lo2)\n",
        "  la2 = math.radians(la2)\n",
        "\n",
        "  # Radius of earth in metres\n",
        "  r = 6378100\n",
        "\n",
        "  # P\n",
        "  rho1 = r * math.cos(la1)\n",
        "  z1 = r * math.sin(la1)\n",
        "  x1 = rho1 * math.cos(lo1)\n",
        "  y1 = rho1 * math.sin(lo1)\n",
        "\n",
        "  # Q\n",
        "  rho2 = r * math.cos(la2)\n",
        "  z2 = r * math.sin(la2)\n",
        "  x2 = rho2 * math.cos(lo2)\n",
        "  y2 = rho2 * math.sin(lo2)\n",
        "\n",
        "  # Dot product\n",
        "  dot = (x1 * x2 + y1 * y2 + z1 * z2)\n",
        "  cos_theta = dot / (r * r)\n",
        " \n",
        "  theta = math.acos(cos_theta);\n",
        " \n",
        "\t# Distance in Metres\n",
        "  return r * theta\n"
      ],
      "execution_count": null,
      "outputs": []
    },
    {
      "cell_type": "code",
      "source": [
        "ISSsample = 'http://api.open-notify.org' #Base URL\n",
        "endPoint = requests.get(ISSsample + \"/iss-now.json\")\n",
        "jVar2 = endPoint.json()\n",
        "display(jVar2)\n",
        "\n",
        "time.sleep(5)\n",
        "\n",
        "ISSsample = 'http://api.open-notify.org' #Base URL\n",
        "endPoint = requests.get(ISSsample + \"/iss-now.json\")\n",
        "jVar3 = endPoint.json()\n",
        "display(jVar3)"
      ],
      "metadata": {
        "colab": {
          "base_uri": "https://localhost:8080/",
          "height": 121
        },
        "id": "scQNJRq2qwuQ",
        "outputId": "c6b78f8b-f67c-4493-ca95-172ab6267deb"
      },
      "execution_count": null,
      "outputs": [
        {
          "output_type": "display_data",
          "data": {
            "text/plain": [
              "{'message': 'success',\n",
              " 'timestamp': 1660659006,\n",
              " 'iss_position': {'latitude': '-20.6036', 'longitude': '-157.4542'}}"
            ]
          },
          "metadata": {}
        },
        {
          "output_type": "display_data",
          "data": {
            "text/plain": [
              "{'message': 'success',\n",
              " 'timestamp': 1660659012,\n",
              " 'iss_position': {'latitude': '-20.3372', 'longitude': '-157.2260'}}"
            ]
          },
          "metadata": {}
        }
      ]
    },
    {
      "cell_type": "code",
      "source": [
        "#Call distance function and input distances. Save those as variables. Then divide by 5.\n",
        "\n",
        "\n",
        "distVar = distance(float(jVar2['iss_position']['longitude']),float(jVar2['iss_position']['latitude']),float(jVar3['iss_position']['longitude']),float(jVar3['iss_position']['latitude']))\n",
        "\n",
        "\n",
        "timeVar = 5\n",
        "\n",
        "print(\"The velocity is \" + str(distVar/timeVar) + \".\")"
      ],
      "metadata": {
        "id": "WM3IiIijrfwJ",
        "colab": {
          "base_uri": "https://localhost:8080/"
        },
        "outputId": "8aacdc73-7ec3-4052-afa1-8720c249a879"
      },
      "execution_count": null,
      "outputs": [
        {
          "output_type": "stream",
          "name": "stdout",
          "text": [
            "The velocity is 7604.794346069633.\n"
          ]
        }
      ]
    },
    {
      "cell_type": "markdown",
      "source": [
        "Review: variable and function declaration."
      ],
      "metadata": {
        "id": "8bRGBXtICftM"
      }
    }
  ]
}